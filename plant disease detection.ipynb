{
 "cells": [
  {
   "cell_type": "code",
   "execution_count": 1,
   "id": "8274fadf",
   "metadata": {},
   "outputs": [
    {
     "name": "stdout",
     "output_type": "stream",
     "text": [
      "WARNING:tensorflow:From C:\\Users\\DESKTOP\\anaconda3\\envs\\notebook-6.4.12\\lib\\site-packages\\keras\\src\\losses.py:2976: The name tf.losses.sparse_softmax_cross_entropy is deprecated. Please use tf.compat.v1.losses.sparse_softmax_cross_entropy instead.\n",
      "\n"
     ]
    }
   ],
   "source": [
    "import os\n",
    "import numpy as np\n",
    "import tkinter as tk\n",
    "from tkinter import filedialog\n",
    "from PIL import Image, ImageTk\n",
    "from keras.preprocessing.image import ImageDataGenerator, img_to_array, load_img\n",
    "from keras.applications.vgg19 import VGG19, preprocess_input\n",
    "from keras.layers import Dense, Flatten\n",
    "from keras.models import Model\n",
    "from keras.callbacks import ModelCheckpoint, EarlyStopping\n",
    "from keras.models import load_model"
   ]
  },
  {
   "cell_type": "code",
   "execution_count": 2,
   "id": "25566dba",
   "metadata": {},
   "outputs": [],
   "source": [
    "def preprocess_image(image_path):\n",
    "    img = load_img(image_path, target_size=(256, 256))\n",
    "    img_array = img_to_array(img)\n",
    "    img_array = preprocess_input(img_array)\n",
    "    img_array = np.expand_dims(img_array, axis=0)\n",
    "    return img_array"
   ]
  },
  {
   "cell_type": "code",
   "execution_count": 3,
   "id": "aa390869",
   "metadata": {},
   "outputs": [],
   "source": [
    "def predict_disease(image_path):\n",
    "    img_array = preprocess_image(image_path)\n",
    "    prediction = model.predict(img_array)\n",
    "    class_index = np.argmax(prediction)\n",
    "    class_label = class_indices_reverse[class_index]\n",
    "    confidence = prediction[0, class_index]\n",
    "    \n",
    "    print(f\"Prediction: {class_label}, Confidence: {confidence}\")\n",
    "    return class_label\n"
   ]
  },
  {
   "cell_type": "code",
   "execution_count": 4,
   "id": "8138d18c",
   "metadata": {},
   "outputs": [],
   "source": [
    "dataset_path = \"C:/Users/DESKTOP/Desktop/plant/New Plant Diseases Dataset(Augmented)/New Plant Diseases Dataset(Augmented)\""
   ]
  },
  {
   "cell_type": "code",
   "execution_count": 5,
   "id": "b6a31635",
   "metadata": {},
   "outputs": [
    {
     "name": "stdout",
     "output_type": "stream",
     "text": [
      "Found 57422 images belonging to 32 classes.\n"
     ]
    }
   ],
   "source": [
    "train_datagen = ImageDataGenerator(\n",
    "    zoom_range=0.5,\n",
    "    shear_range=0.3,\n",
    "    horizontal_flip=True,\n",
    "    preprocessing_function=preprocess_input\n",
    ")\n",
    "\n",
    "train_generator = train_datagen.flow_from_directory(\n",
    "    directory=os.path.join(dataset_path, \"train\"),\n",
    "    target_size=(256, 256),\n",
    "    batch_size=32\n",
    ")\n"
   ]
  },
  {
   "cell_type": "code",
   "execution_count": 6,
   "id": "02e288f9",
   "metadata": {},
   "outputs": [
    {
     "name": "stdout",
     "output_type": "stream",
     "text": [
      "WARNING:tensorflow:From C:\\Users\\DESKTOP\\anaconda3\\envs\\notebook-6.4.12\\lib\\site-packages\\keras\\src\\backend.py:1398: The name tf.executing_eagerly_outside_functions is deprecated. Please use tf.compat.v1.executing_eagerly_outside_functions instead.\n",
      "\n",
      "WARNING:tensorflow:From C:\\Users\\DESKTOP\\anaconda3\\envs\\notebook-6.4.12\\lib\\site-packages\\keras\\src\\layers\\pooling\\max_pooling2d.py:161: The name tf.nn.max_pool is deprecated. Please use tf.nn.max_pool2d instead.\n",
      "\n"
     ]
    }
   ],
   "source": [
    "model = load_model(\"C:/Users/DESKTOP/Desktop/plant/best_model.h5\")\n",
    "class_indices_reverse = dict(zip(train_generator.class_indices.values(), train_generator.class_indices.keys()))"
   ]
  },
  {
   "cell_type": "code",
   "execution_count": 7,
   "id": "9bb5cfd8",
   "metadata": {},
   "outputs": [],
   "source": [
    "class PlantDiseaseClassifierGUI:\n",
    "    def __init__(self, root):\n",
    "        self.root = root\n",
    "        self.root.title(\"Plant Disease Classifier\")\n",
    "\n",
    "        # configure the Frame\n",
    "        self.frame = tk.Frame(self.root, padx=200, pady=200)\n",
    "        self.frame.pack()\n",
    "\n",
    "        # Buttons\n",
    "        self.browse_image_button = tk.Button(self.frame, text=\"Browse Image\", command=self.browse_image)\n",
    "        self.browse_image_button.pack(side=tk.LEFT)\n",
    "\n",
    "        self.browse_directory_button = tk.Button(self.frame, text=\"Browse Directory\", command=self.browse_directory)\n",
    "        self.browse_directory_button.pack(side=tk.LEFT)\n",
    "\n",
    "        self.predict_button = tk.Button(self.frame, text=\"Predict\", command=self.predict_image)\n",
    "        self.predict_button.pack(side=tk.RIGHT)\n",
    "\n",
    "        self.clear_button = tk.Button(self.frame, text=\"Clear\", command=self.clear_result)\n",
    "        self.clear_button.pack(side=tk.RIGHT)\n",
    "\n",
    "        # Label to display the prediction result\n",
    "        self.result_label = tk.Label(self.root, text=\"\")\n",
    "        self.result_label.pack()\n",
    "\n",
    "        # Initialize the image label\n",
    "        self.image_label = tk.Label(self.root)\n",
    "        \n",
    "        # Placeholder for image path\n",
    "        self.image_path = None\n",
    "\n",
    "\n",
    "    def browse_image(self):\n",
    "        file_path = filedialog.askopenfilename(filetypes=[(\"Image files\", \".png;*.jpg;*.jpeg\")])\n",
    "        self.image_path = file_path  # Fix the indentation here\n",
    "\n",
    "        # Display the selected image on the GUI\n",
    "        try:\n",
    "            img = Image.open(self.image_path)\n",
    "            img = img.resize((300, 300), Image.ANTIALIAS)\n",
    "            img = ImageTk.PhotoImage(img)\n",
    "            self.image_label.config(image=img)\n",
    "            self.image_label.image = img\n",
    "            self.image_label.pack()\n",
    "\n",
    "        except Exception as e:\n",
    "            # Handle the exception, for example, display an error message\n",
    "            self.result_label.config(text=f\"Error opening image: {str(e)}\")\n",
    "\n",
    "        else:\n",
    "            self.result_label.config(text=\"No image selected\")\n",
    "\n",
    "\n",
    "    def browse_directory(self):\n",
    "        directory_path = filedialog.askdirectory()\n",
    "        self.image_path = directory_path\n",
    "        self.result_label.config(text=\"Selected directory: \" + directory_path)\n",
    "\n",
    "    def predict_image(self):\n",
    "        if self.image_path:\n",
    "            if os.path.isfile(self.image_path):\n",
    "                prediction = predict_disease(self.image_path)  # You need to implement predict_disease function\n",
    "                self.result_label.config(text=f\"The image belongs to {prediction}\")\n",
    "            elif os.path.isdir(self.image_path):\n",
    "                self.result_label.config(text=\"Predicting diseases in the directory...\")\n",
    "                self.predict_directory()\n",
    "            else:\n",
    "                self.result_label.config(text=\"Please select a valid image or directory.\")\n",
    "        else:\n",
    "            self.result_label.config(text=\"Please select an image or directory first.\")\n",
    "\n",
    "    def predict_directory(self):\n",
    "        # Get the list of images in the directory\n",
    "        images = [f for f in os.listdir(self.image_path) if os.path.isfile(os.path.join(self.image_path, f))]\n",
    "\n",
    "        for image_name in images:\n",
    "            image_path = os.path.join(self.image_path, image_name)\n",
    "            prediction = predict_disease(image_path)  # You need to implement predict_disease function\n",
    "            print(f\"The image {image_name} belongs to {prediction}\")\n",
    "\n",
    "        self.result_label.config(text=\"Prediction complete.\")\n",
    "\n",
    "    def clear_result(self):\n",
    "        self.image_label.pack_forget()\n",
    "        self.result_label.config(text=\"\")\n",
    "        self.image_path = None\n",
    "\n",
    "# Tkinter GUI\n",
    "root = tk.Tk()\n",
    "app = PlantDiseaseClassifierGUI(root)\n",
    "root.mainloop()\n"
   ]
  },
  {
   "cell_type": "code",
   "execution_count": null,
   "id": "654aa4cb",
   "metadata": {},
   "outputs": [],
   "source": []
  }
 ],
 "metadata": {
  "kernelspec": {
   "display_name": "Python 3 (ipykernel)",
   "language": "python",
   "name": "python3"
  },
  "language_info": {
   "codemirror_mode": {
    "name": "ipython",
    "version": 3
   },
   "file_extension": ".py",
   "mimetype": "text/x-python",
   "name": "python",
   "nbconvert_exporter": "python",
   "pygments_lexer": "ipython3",
   "version": "3.10.13"
  }
 },
 "nbformat": 4,
 "nbformat_minor": 5
}
