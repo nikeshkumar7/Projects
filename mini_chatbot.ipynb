{
  "nbformat": 4,
  "nbformat_minor": 0,
  "metadata": {
    "colab": {
      "provenance": [],
      "authorship_tag": "ABX9TyMAdVcaHKAXfNAEu8xYIdOr",
      "include_colab_link": true
    },
    "kernelspec": {
      "name": "python3",
      "display_name": "Python 3"
    },
    "language_info": {
      "name": "python"
    }
  },
  "cells": [
    {
      "cell_type": "markdown",
      "metadata": {
        "id": "view-in-github",
        "colab_type": "text"
      },
      "source": [
        "<a href=\"https://colab.research.google.com/github/nikeshkumar7/Projects/blob/main/mini_chatbot.ipynb\" target=\"_parent\"><img src=\"https://colab.research.google.com/assets/colab-badge.svg\" alt=\"Open In Colab\"/></a>"
      ]
    },
    {
      "cell_type": "code",
      "execution_count": null,
      "metadata": {
        "id": "8AwmggH76feo",
        "colab": {
          "base_uri": "https://localhost:8080/"
        },
        "outputId": "2af84809-e814-4753-8860-82a21d308fd5"
      },
      "outputs": [
        {
          "output_type": "stream",
          "name": "stdout",
          "text": [
            "You: hello\n",
            "AI Assistant: Hi there!\n"
          ]
        }
      ],
      "source": [
        "import random\n",
        "\n",
        "\n",
        "responses = {\n",
        "    \"hello\": [\"Hello!\", \"Hi there!\", \"Hey!\"],\n",
        "    \"how are you\": [\"I'm good, thanks!\", \"I'm just a computer program, but I'm here to help.\"],\n",
        "    \"bye\": [\"Goodbye!\", \"See you later!\", \"Farewell!\"],\n",
        "    \"default\": [\"I don't understand that.\", \"Could you please rephrase that?\", \"I'm still learning.\"],\n",
        "}\n",
        "\n",
        "\n",
        "def get_response(input_text):\n",
        "    input_text = input_text.lower()\n",
        "    for key, value in responses.items():\n",
        "        if key in input_text:\n",
        "            return random.choice(value)\n",
        "    return random.choice(responses[\"default\"])\n",
        "\n",
        "\n",
        "while True:\n",
        "    user_input = input(\"You: \")\n",
        "    if user_input.lower() == \"exit\":\n",
        "        print(\"AI Assistant: Goodbye!\")\n",
        "        break\n",
        "    response = get_response(user_input)\n",
        "    print(\"AI Assistant:\", response)\n"
      ]
    }
  ]
}